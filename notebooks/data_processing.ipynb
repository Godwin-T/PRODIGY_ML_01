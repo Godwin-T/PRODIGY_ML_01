{
 "cells": [
  {
   "cell_type": "code",
   "execution_count": 40,
   "metadata": {},
   "outputs": [],
   "source": [
    "import numpy as np\n",
    "import pandas as pd\n",
    "\n",
    "from sklearn.linear_model import LinearRegression, Lasso, Ridge\n",
    "from sklearn.ensemble import RandomForestClassifier\n",
    "from sklearn.model_selection import train_test_split\n",
    "\n",
    "from sklearn.tree import DecisionTreeRegressor\n",
    "from sklearn.ensemble import RandomForestRegressor\n",
    "\n",
    "from sklearn.feature_selection import chi2, VarianceThreshold\n",
    "from sklearn.feature_extraction import DictVectorizer\n",
    "from sklearn.preprocessing import OrdinalEncoder, StandardScaler\n",
    "\n",
    "from sklearn.metrics import (r2_score, mean_absolute_error, \n",
    "                             mean_squared_error)"
   ]
  },
  {
   "cell_type": "code",
   "execution_count": 44,
   "metadata": {},
   "outputs": [
    {
     "data": {
      "text/plain": [
       "((1460, 81), (1459, 80))"
      ]
     },
     "execution_count": 44,
     "metadata": {},
     "output_type": "execute_result"
    }
   ],
   "source": [
    "train_data_path = \"../data//house-prices-advanced-regression-techniques/train.csv\"\n",
    "test_data_path = \"../data/house-prices-advanced-regression-techniques/test.csv\"\n",
    "\n",
    "train_data = pd.read_csv(train_data_path)\n",
    "test_data = pd.read_csv(test_data_path)\n",
    "\n",
    "train_data.shape, test_data.shape"
   ]
  },
  {
   "cell_type": "code",
   "execution_count": 52,
   "metadata": {},
   "outputs": [
    {
     "name": "stdout",
     "output_type": "stream",
     "text": [
      "None\n",
      "0.0\n",
      "TA\n",
      "TA\n",
      "No\n",
      "Unf\n",
      "Unf\n",
      "SBrkr\n"
     ]
    }
   ],
   "source": [
    "for column in train_data.columns:\n",
    "    percentage = train_data[column].isna().sum() * 100 / len(train_data)\n",
    "\n",
    "    if (percentage <= 3 and percentage > 0):  # with mean\n",
    "        print(train_data[column].mode()[0])"
   ]
  },
  {
   "cell_type": "code",
   "execution_count": 54,
   "metadata": {},
   "outputs": [
    {
     "data": {
      "text/plain": [
       "None       864\n",
       "BrkFace    445\n",
       "Stone      128\n",
       "BrkCmn      15\n",
       "Name: MasVnrType, dtype: int64"
      ]
     },
     "execution_count": 54,
     "metadata": {},
     "output_type": "execute_result"
    }
   ],
   "source": [
    "train_data['MasVnrType'].value_counts()"
   ]
  },
  {
   "cell_type": "code",
   "execution_count": null,
   "metadata": {},
   "outputs": [],
   "source": []
  },
  {
   "cell_type": "markdown",
   "metadata": {},
   "source": []
  },
  {
   "cell_type": "markdown",
   "metadata": {},
   "source": [
    "# Remove redundant features"
   ]
  },
  {
   "cell_type": "code",
   "execution_count": 5,
   "metadata": {},
   "outputs": [
    {
     "name": "stdout",
     "output_type": "stream",
     "text": [
      "[['Alley', 93.76712328767124], ['FireplaceQu', 47.26027397260274], ['PoolQC', 99.52054794520548], ['Fence', 80.75342465753425], ['MiscFeature', 96.3013698630137]]\n"
     ]
    }
   ],
   "source": [
    "uneeded_columns = []\n",
    "\n",
    "for column in train_data.columns:\n",
    "    percentage = train_data[column].isna().sum() * 100 / len(train_data)\n",
    "    if percentage > 30:\n",
    "        uneeded_columns.append([column, percentage])\n",
    "\n",
    "print(uneeded_columns)"
   ]
  },
  {
   "cell_type": "code",
   "execution_count": 6,
   "metadata": {},
   "outputs": [
    {
     "data": {
      "text/plain": [
       "((1460, 76), (1459, 75))"
      ]
     },
     "execution_count": 6,
     "metadata": {},
     "output_type": "execute_result"
    }
   ],
   "source": [
    "# Removing uneeded columns from test and train data\n",
    "\n",
    "drop = []\n",
    "for i, j in uneeded_columns:\n",
    "    drop.append(i)\n",
    "\n",
    "combin = [train_data, test_data]\n",
    "for dataset in combin:\n",
    "    dataset.drop(columns=drop, axis=1, inplace=True)\n",
    "\n",
    "train_data.shape, test_data.shape"
   ]
  },
  {
   "cell_type": "markdown",
   "metadata": {},
   "source": [
    "# Handling missing values"
   ]
  },
  {
   "cell_type": "code",
   "execution_count": 7,
   "metadata": {},
   "outputs": [
    {
     "name": "stdout",
     "output_type": "stream",
     "text": [
      "Numerical columns with missing values\n",
      "[['LotFrontage', 17.73972602739726], ['MasVnrArea', 0.547945205479452], ['GarageYrBlt', 5.5479452054794525]] \n",
      "\n",
      "Categorical columns with missing values\n",
      "[['MasVnrType', 0.547945205479452], ['BsmtQual', 2.5342465753424657], ['BsmtCond', 2.5342465753424657], ['BsmtExposure', 2.6027397260273974], ['BsmtFinType1', 2.5342465753424657], ['BsmtFinType2', 2.6027397260273974], ['Electrical', 0.0684931506849315], ['GarageType', 5.5479452054794525], ['GarageFinish', 5.5479452054794525], ['GarageQual', 5.5479452054794525], ['GarageCond', 5.5479452054794525]]\n"
     ]
    }
   ],
   "source": [
    "null_num_columns = []\n",
    "null_cat_columns = []\n",
    "\n",
    "for column in train_data.columns:\n",
    "    percentage = train_data[column].isna().sum() * 100 / len(train_data)\n",
    "    if percentage > 0:\n",
    "        if train_data[column].dtype != \"O\":\n",
    "            null_num_columns.append([column, percentage])\n",
    "        else:\n",
    "            null_cat_columns.append([column, percentage])\n",
    "\n",
    "print(\"Numerical columns with missing values\")\n",
    "print(null_num_columns, \"\\n\")\n",
    "\n",
    "print(\"Categorical columns with missing values\")\n",
    "print(null_cat_columns)"
   ]
  },
  {
   "cell_type": "code",
   "execution_count": 8,
   "metadata": {},
   "outputs": [
    {
     "name": "stdout",
     "output_type": "stream",
     "text": [
      "['LotFrontage', 'MasVnrArea', 'GarageYrBlt']\n",
      "\n",
      "['MasVnrType', 'BsmtQual', 'BsmtCond', 'BsmtExposure', 'BsmtFinType1', 'BsmtFinType2', 'Electrical', 'GarageType', 'GarageFinish', 'GarageQual', 'GarageCond']\n"
     ]
    }
   ],
   "source": [
    "num_columns = []\n",
    "cat_columns = []\n",
    "for i, j in null_num_columns:\n",
    "    num_columns.append(i)\n",
    "\n",
    "for i, j in null_cat_columns:\n",
    "    cat_columns.append(i)\n",
    "\n",
    "\n",
    "print(num_columns)\n",
    "print()\n",
    "print(cat_columns)"
   ]
  },
  {
   "cell_type": "code",
   "execution_count": null,
   "metadata": {},
   "outputs": [],
   "source": []
  },
  {
   "cell_type": "code",
   "execution_count": null,
   "metadata": {},
   "outputs": [],
   "source": []
  },
  {
   "cell_type": "code",
   "execution_count": null,
   "metadata": {},
   "outputs": [],
   "source": []
  },
  {
   "cell_type": "code",
   "execution_count": 9,
   "metadata": {},
   "outputs": [],
   "source": [
    "\"\"\"Filling columns with less than 3% missing values with mean(for numerical) and \n",
    "    mode(for categorical) and filling the other columns with linear models or decision \n",
    "    tree\"\"\"\n",
    "\n",
    "def fill_numerical_values_with_linear_model(dataset, column):\n",
    "\n",
    "    data = dataset[[column, \"SalePrice\"]].copy()\n",
    "    data[column] = data[column].fillna(-1)\n",
    "    train = data[data[column] != -1]\n",
    "    missied_data = pd.DataFrame(data[data[column] == -1][\"SalePrice\"])\n",
    "\n",
    "    x_train, x_test, y_train, y_test = train_test_split(\n",
    "        train.drop(columns=column, axis=1),\n",
    "        train[column],\n",
    "        train_size=0.01,\n",
    "        random_state=42,\n",
    "    )\n",
    "\n",
    "    lin_reg = LinearRegression()\n",
    "    lin_reg.fit(x_train, y_train)\n",
    "    predction = list(lin_reg.predict(missied_data))\n",
    "\n",
    "    def update(value):\n",
    "        if value == -1:\n",
    "            ret = int(predction[0])\n",
    "            predction.pop(0)\n",
    "            return ret\n",
    "        return value\n",
    "\n",
    "    dataset[column] = dataset[column].fillna(-1)\n",
    "    dataset[column] = dataset[column].apply(update)\n",
    "\n",
    "    return dataset[column]\n",
    "\n",
    "\n",
    "def fill_numerical_values_with_mean(dataset=pd.DataFrame(), column=str):\n",
    "\n",
    "    mean = dataset[column].mean()\n",
    "    dataset[column] = dataset[column].fillna(mean)\n",
    "    return dataset[column]\n",
    "\n",
    "\n",
    "for column in num_columns:\n",
    "    percentage = train_data[column].isna().sum() * 100 / len(train_data)\n",
    "\n",
    "    if percentage <= 3:  # with mean\n",
    "        train_data[column] = fill_numerical_values_with_mean(train_data, column)\n",
    "\n",
    "    else:  # with model\n",
    "        train_data[column] = fill_numerical_values_with_linear_model(train_data, column)"
   ]
  },
  {
   "cell_type": "code",
   "execution_count": 10,
   "metadata": {},
   "outputs": [],
   "source": [
    "def fill_numerical_values_with_RF_model(dataset, column):\n",
    "\n",
    "    data = dataset[[column, \"SalePrice\"]].copy()\n",
    "    data[column] = data[column].fillna(\"missied_data\")\n",
    "    train = data[data[column] != \"missied_data\"]\n",
    "    missied_data = pd.DataFrame(data[data[column] == \"missied_data\"][\"SalePrice\"])\n",
    "\n",
    "    x_train, x_test, y_train, y_test = train_test_split(\n",
    "        train.drop(columns=column, axis=1),\n",
    "        train[column],\n",
    "        train_size=0.01,\n",
    "        random_state=42,\n",
    "    )\n",
    "\n",
    "    RF = RandomForestClassifier(ccp_alpha=0.015)\n",
    "    RF.fit(x_train, y_train)\n",
    "    predction = list(RF.predict(missied_data))\n",
    "\n",
    "    def update(value):\n",
    "        if value == \"missied_data\":\n",
    "            ret = predction[0]\n",
    "            predction.pop(0)\n",
    "            return ret\n",
    "        return value\n",
    "\n",
    "    dataset[column] = dataset[column].fillna(\"missied_data\")\n",
    "    dataset[column] = dataset[column].apply(update)\n",
    "\n",
    "    return dataset[column]\n",
    "\n",
    "\n",
    "def fill_numerical_values_with_mode(dataset, column):\n",
    "    mode = dataset[column].mode()[0]\n",
    "    dataset[column] = dataset[column].fillna(mode)\n",
    "    return dataset[column]\n",
    "\n",
    "\n",
    "for column in cat_columns:\n",
    "    percentage = train_data[column].isna().sum() * 100 / len(train_data)\n",
    "\n",
    "    if percentage <= 3:  # with mean\n",
    "        train_data[column] = fill_numerical_values_with_mode(train_data, column)\n",
    "\n",
    "    else:  # with model\n",
    "        train_data[column] = fill_numerical_values_with_RF_model(train_data, column)"
   ]
  },
  {
   "cell_type": "code",
   "execution_count": 11,
   "metadata": {},
   "outputs": [],
   "source": [
    "for i in train_data.columns:\n",
    "    if train_data[i].isna().sum() > 0:\n",
    "        print(i)"
   ]
  },
  {
   "cell_type": "code",
   "execution_count": 12,
   "metadata": {},
   "outputs": [
    {
     "name": "stdout",
     "output_type": "stream",
     "text": [
      "[['LotFrontage', 15.558601782042494], ['MasVnrArea', 1.0281014393420151], ['BsmtFinSF1', 0.06854009595613433], ['BsmtFinSF2', 0.06854009595613433], ['BsmtUnfSF', 0.06854009595613433], ['TotalBsmtSF', 0.06854009595613433], ['BsmtFullBath', 0.13708019191226867], ['BsmtHalfBath', 0.13708019191226867], ['GarageYrBlt', 5.346127484578479], ['GarageCars', 0.06854009595613433], ['GarageArea', 0.06854009595613433]] \n",
      "\n",
      "[['MSZoning', 0.27416038382453733], ['Utilities', 0.13708019191226867], ['Exterior1st', 0.06854009595613433], ['Exterior2nd', 0.06854009595613433], ['MasVnrType', 1.0966415352981493], ['BsmtQual', 3.015764222069911], ['BsmtCond', 3.0843043180260454], ['BsmtExposure', 3.015764222069911], ['BsmtFinType1', 2.8786840301576424], ['BsmtFinType2', 2.8786840301576424], ['KitchenQual', 0.06854009595613433], ['Functional', 0.13708019191226867], ['GarageType', 5.2090472926662095], ['GarageFinish', 5.346127484578479], ['GarageQual', 5.346127484578479], ['GarageCond', 5.346127484578479], ['SaleType', 0.06854009595613433]]\n"
     ]
    }
   ],
   "source": [
    "null_num_columns = []\n",
    "null_cat_columns = []\n",
    "\n",
    "for column in test_data.columns:\n",
    "    percentage = test_data[column].isna().sum() * 100 / len(test_data)\n",
    "    if percentage > 0:\n",
    "        if test_data[column].dtype != \"O\":\n",
    "            null_num_columns.append([column, percentage])\n",
    "        else:\n",
    "            null_cat_columns.append([column, percentage])\n",
    "\n",
    "print(null_num_columns, \"\\n\")\n",
    "print(null_cat_columns)"
   ]
  },
  {
   "cell_type": "code",
   "execution_count": 13,
   "metadata": {},
   "outputs": [
    {
     "name": "stdout",
     "output_type": "stream",
     "text": [
      "['LotFrontage', 'MasVnrArea', 'BsmtFinSF1', 'BsmtFinSF2', 'BsmtUnfSF', 'TotalBsmtSF', 'BsmtFullBath', 'BsmtHalfBath', 'GarageYrBlt', 'GarageCars', 'GarageArea']\n",
      "\n",
      "['MSZoning', 'Utilities', 'Exterior1st', 'Exterior2nd', 'MasVnrType', 'BsmtQual', 'BsmtCond', 'BsmtExposure', 'BsmtFinType1', 'BsmtFinType2', 'KitchenQual', 'Functional', 'GarageType', 'GarageFinish', 'GarageQual', 'GarageCond', 'SaleType']\n"
     ]
    }
   ],
   "source": [
    "num_columns = []\n",
    "cat_columns = []\n",
    "for i, j in null_num_columns:\n",
    "    num_columns.append(i)\n",
    "\n",
    "for i, j in null_cat_columns:\n",
    "    cat_columns.append(i)\n",
    "\n",
    "\n",
    "print(num_columns)\n",
    "print()\n",
    "print(cat_columns)"
   ]
  },
  {
   "cell_type": "code",
   "execution_count": 14,
   "metadata": {},
   "outputs": [],
   "source": [
    "for column in cat_columns:\n",
    "    test_data[column] = fill_numerical_values_with_mode(test_data, column)\n",
    "\n",
    "for column in num_columns:\n",
    "    test_data[column] = fill_numerical_values_with_mean(test_data, column)"
   ]
  },
  {
   "cell_type": "markdown",
   "metadata": {},
   "source": [
    "# Removing outlier"
   ]
  },
  {
   "cell_type": "code",
   "execution_count": 18,
   "metadata": {},
   "outputs": [],
   "source": [
    "utliers_col = [\"LotFrontage\", \"LotArea\", \"BsmtFinSF1\", \"TotalBsmtSF\", \"GrLivArea\"]\n",
    "\n",
    "train_data = train_data.drop(train_data[train_data[\"LotFrontage\"] > 185].index)\n",
    "train_data = train_data.drop(train_data[train_data[\"LotArea\"] > 100000].index)\n",
    "train_data = train_data.drop(train_data[train_data[\"BsmtFinSF1\"] > 4000].index)\n",
    "train_data = train_data.drop(train_data[train_data[\"TotalBsmtSF\"] > 5000].index)\n",
    "train_data = train_data.drop(train_data[train_data[\"GrLivArea\"] > 4000].index)"
   ]
  },
  {
   "cell_type": "code",
   "execution_count": 19,
   "metadata": {},
   "outputs": [
    {
     "data": {
      "text/plain": [
       "(1451, 76)"
      ]
     },
     "execution_count": 19,
     "metadata": {},
     "output_type": "execute_result"
    }
   ],
   "source": [
    "train_data.shape"
   ]
  },
  {
   "cell_type": "markdown",
   "metadata": {},
   "source": [
    "# Feature Construction"
   ]
  },
  {
   "cell_type": "code",
   "execution_count": 20,
   "metadata": {},
   "outputs": [],
   "source": [
    "combin = [train_data, test_data]\n",
    "\n",
    "for dataset in combin:\n",
    "    dataset[\"Totalarea\"] = dataset[\"LotArea\"] + dataset[\"LotFrontage\"]\n",
    "    dataset[\"TotalBsmtFin\"] = dataset[\"BsmtFinSF1\"] + dataset[\"BsmtFinSF2\"]\n",
    "    dataset[\"TotalSF\"] = dataset[\"TotalBsmtSF\"] + dataset[\"2ndFlrSF\"]\n",
    "    dataset[\"TotalBath\"] = dataset[\"FullBath\"] + dataset[\"HalfBath\"]\n",
    "    dataset[\"TotalPorch\"] = (\n",
    "        dataset[\"ScreenPorch\"] + dataset[\"EnclosedPorch\"] + dataset[\"OpenPorchSF\"]\n",
    "    )"
   ]
  },
  {
   "cell_type": "code",
   "execution_count": 21,
   "metadata": {},
   "outputs": [],
   "source": [
    "def update(val):\n",
    "    if val > 0:\n",
    "        return 1\n",
    "    return 0\n",
    "\n",
    "\n",
    "for dataset in combin:\n",
    "    dataset[\"Totalarea\"] = dataset[\"Totalarea\"].apply(update)\n",
    "    dataset[\"TotalBsmtFin\"] = dataset[\"TotalBsmtFin\"].apply(update)\n",
    "    dataset[\"TotalSF\"] = dataset[\"TotalSF\"].apply(update)\n",
    "    dataset[\"TotalBath\"] = dataset[\"TotalBath\"].apply(update)\n",
    "    dataset[\"TotalPorch\"] = dataset[\"Totalarea\"].apply(update)"
   ]
  },
  {
   "cell_type": "markdown",
   "metadata": {},
   "source": [
    "## Feature Selection"
   ]
  },
  {
   "cell_type": "code",
   "execution_count": 22,
   "metadata": {},
   "outputs": [],
   "source": [
    "numerical_cols =  train_data.dtypes[train_data.dtypes != 'object'].index.tolist()\n",
    "categorical_cols =  train_data.dtypes[train_data.dtypes == 'object'].index.tolist()"
   ]
  },
  {
   "cell_type": "markdown",
   "metadata": {},
   "source": [
    "# Variance Threshold For Numerical Columns"
   ]
  },
  {
   "cell_type": "code",
   "execution_count": 23,
   "metadata": {},
   "outputs": [
    {
     "data": {
      "text/html": [
       "<style>#sk-container-id-1 {color: black;background-color: white;}#sk-container-id-1 pre{padding: 0;}#sk-container-id-1 div.sk-toggleable {background-color: white;}#sk-container-id-1 label.sk-toggleable__label {cursor: pointer;display: block;width: 100%;margin-bottom: 0;padding: 0.3em;box-sizing: border-box;text-align: center;}#sk-container-id-1 label.sk-toggleable__label-arrow:before {content: \"▸\";float: left;margin-right: 0.25em;color: #696969;}#sk-container-id-1 label.sk-toggleable__label-arrow:hover:before {color: black;}#sk-container-id-1 div.sk-estimator:hover label.sk-toggleable__label-arrow:before {color: black;}#sk-container-id-1 div.sk-toggleable__content {max-height: 0;max-width: 0;overflow: hidden;text-align: left;background-color: #f0f8ff;}#sk-container-id-1 div.sk-toggleable__content pre {margin: 0.2em;color: black;border-radius: 0.25em;background-color: #f0f8ff;}#sk-container-id-1 input.sk-toggleable__control:checked~div.sk-toggleable__content {max-height: 200px;max-width: 100%;overflow: auto;}#sk-container-id-1 input.sk-toggleable__control:checked~label.sk-toggleable__label-arrow:before {content: \"▾\";}#sk-container-id-1 div.sk-estimator input.sk-toggleable__control:checked~label.sk-toggleable__label {background-color: #d4ebff;}#sk-container-id-1 div.sk-label input.sk-toggleable__control:checked~label.sk-toggleable__label {background-color: #d4ebff;}#sk-container-id-1 input.sk-hidden--visually {border: 0;clip: rect(1px 1px 1px 1px);clip: rect(1px, 1px, 1px, 1px);height: 1px;margin: -1px;overflow: hidden;padding: 0;position: absolute;width: 1px;}#sk-container-id-1 div.sk-estimator {font-family: monospace;background-color: #f0f8ff;border: 1px dotted black;border-radius: 0.25em;box-sizing: border-box;margin-bottom: 0.5em;}#sk-container-id-1 div.sk-estimator:hover {background-color: #d4ebff;}#sk-container-id-1 div.sk-parallel-item::after {content: \"\";width: 100%;border-bottom: 1px solid gray;flex-grow: 1;}#sk-container-id-1 div.sk-label:hover label.sk-toggleable__label {background-color: #d4ebff;}#sk-container-id-1 div.sk-serial::before {content: \"\";position: absolute;border-left: 1px solid gray;box-sizing: border-box;top: 0;bottom: 0;left: 50%;z-index: 0;}#sk-container-id-1 div.sk-serial {display: flex;flex-direction: column;align-items: center;background-color: white;padding-right: 0.2em;padding-left: 0.2em;position: relative;}#sk-container-id-1 div.sk-item {position: relative;z-index: 1;}#sk-container-id-1 div.sk-parallel {display: flex;align-items: stretch;justify-content: center;background-color: white;position: relative;}#sk-container-id-1 div.sk-item::before, #sk-container-id-1 div.sk-parallel-item::before {content: \"\";position: absolute;border-left: 1px solid gray;box-sizing: border-box;top: 0;bottom: 0;left: 50%;z-index: -1;}#sk-container-id-1 div.sk-parallel-item {display: flex;flex-direction: column;z-index: 1;position: relative;background-color: white;}#sk-container-id-1 div.sk-parallel-item:first-child::after {align-self: flex-end;width: 50%;}#sk-container-id-1 div.sk-parallel-item:last-child::after {align-self: flex-start;width: 50%;}#sk-container-id-1 div.sk-parallel-item:only-child::after {width: 0;}#sk-container-id-1 div.sk-dashed-wrapped {border: 1px dashed gray;margin: 0 0.4em 0.5em 0.4em;box-sizing: border-box;padding-bottom: 0.4em;background-color: white;}#sk-container-id-1 div.sk-label label {font-family: monospace;font-weight: bold;display: inline-block;line-height: 1.2em;}#sk-container-id-1 div.sk-label-container {text-align: center;}#sk-container-id-1 div.sk-container {/* jupyter's `normalize.less` sets `[hidden] { display: none; }` but bootstrap.min.css set `[hidden] { display: none !important; }` so we also need the `!important` here to be able to override the default hidden behavior on the sphinx rendered scikit-learn.org. See: https://github.com/scikit-learn/scikit-learn/issues/21755 */display: inline-block !important;position: relative;}#sk-container-id-1 div.sk-text-repr-fallback {display: none;}</style><div id=\"sk-container-id-1\" class=\"sk-top-container\"><div class=\"sk-text-repr-fallback\"><pre>VarianceThreshold(threshold=0.15999999999999998)</pre><b>In a Jupyter environment, please rerun this cell to show the HTML representation or trust the notebook. <br />On GitHub, the HTML representation is unable to render, please try loading this page with nbviewer.org.</b></div><div class=\"sk-container\" hidden><div class=\"sk-item\"><div class=\"sk-estimator sk-toggleable\"><input class=\"sk-toggleable__control sk-hidden--visually\" id=\"sk-estimator-id-1\" type=\"checkbox\" checked><label for=\"sk-estimator-id-1\" class=\"sk-toggleable__label sk-toggleable__label-arrow\">VarianceThreshold</label><div class=\"sk-toggleable__content\"><pre>VarianceThreshold(threshold=0.15999999999999998)</pre></div></div></div></div></div>"
      ],
      "text/plain": [
       "VarianceThreshold(threshold=0.15999999999999998)"
      ]
     },
     "execution_count": 23,
     "metadata": {},
     "output_type": "execute_result"
    }
   ],
   "source": [
    "presntage = 0.8 * (1 - 0.8)\n",
    "X = train_data[numerical_cols]\n",
    "var = VarianceThreshold(threshold=presntage)\n",
    "var.fit(X)"
   ]
  },
  {
   "cell_type": "code",
   "execution_count": 24,
   "metadata": {},
   "outputs": [
    {
     "data": {
      "text/plain": [
       "{'BsmtHalfBath',\n",
       " 'KitchenAbvGr',\n",
       " 'TotalBath',\n",
       " 'TotalPorch',\n",
       " 'TotalSF',\n",
       " 'Totalarea'}"
      ]
     },
     "execution_count": 24,
     "metadata": {},
     "output_type": "execute_result"
    }
   ],
   "source": [
    "boolean_selection = var.get_support()\n",
    "columns_names = var.feature_names_in_\n",
    "\n",
    "removed_columns = set()\n",
    "for i in range(len(boolean_selection)):\n",
    "    if boolean_selection[i] == False:\n",
    "        removed_columns.add(columns_names[i])\n",
    "\n",
    "removed_columns"
   ]
  },
  {
   "cell_type": "markdown",
   "metadata": {},
   "source": [
    "# Correlation"
   ]
  },
  {
   "cell_type": "code",
   "execution_count": 25,
   "metadata": {},
   "outputs": [
    {
     "name": "stdout",
     "output_type": "stream",
     "text": [
      "BsmtFinSF1 BsmtUnfSF\n",
      "TotalBsmtSF 1stFlrSF\n",
      "BsmtUnfSF BsmtFullBath\n",
      "GrLivArea TotRmsAbvGrd\n",
      "YearBuilt GarageYrBlt\n",
      "GarageCars GarageArea\n",
      "OverallQual SalePrice\n",
      "BsmtUnfSF TotalBsmtFin\n",
      "13\n",
      "{'TotalBath', 'YearBuilt', 'TotalSF', 'BsmtHalfBath', 'KitchenAbvGr', 'TotalPorch', 'GarageCars', 'OverallQual', 'Totalarea', 'TotalBsmtSF', 'GrLivArea', 'BsmtUnfSF', 'BsmtFinSF1'}\n"
     ]
    }
   ],
   "source": [
    "def remove_strong_corr(data_set, neg_corr, pos_corr):\n",
    "    global removed_columns\n",
    "    correlation = data_set.corr()\n",
    "\n",
    "    for i in range(len(correlation.columns)):\n",
    "\n",
    "        for j in range(i):\n",
    "            corr_value = correlation.iloc[i, j]\n",
    "\n",
    "            if corr_value < 0 and corr_value < neg_corr:\n",
    "                print(correlation.columns[j], correlation.columns[i])\n",
    "                removed_columns.add(correlation.columns[j])\n",
    "            elif corr_value > 0 and corr_value > pos_corr:\n",
    "                print(correlation.columns[j], correlation.columns[i])\n",
    "                removed_columns.add(correlation.columns[j])\n",
    "\n",
    "    return\n",
    "\n",
    "df = train_data[numerical_cols].drop(columns=[\"Id\"], axis=1)\n",
    "remove_strong_corr(df, neg_corr=-0.4, pos_corr=0.8)\n",
    "print(len(removed_columns))\n",
    "print(removed_columns)"
   ]
  },
  {
   "cell_type": "code",
   "execution_count": 26,
   "metadata": {},
   "outputs": [
    {
     "data": {
      "text/plain": [
       "{'BsmtFinSF1',\n",
       " 'BsmtHalfBath',\n",
       " 'BsmtUnfSF',\n",
       " 'GarageCars',\n",
       " 'KitchenAbvGr',\n",
       " 'OverallQual',\n",
       " 'TotalBath',\n",
       " 'TotalBsmtSF',\n",
       " 'TotalPorch',\n",
       " 'TotalSF',\n",
       " 'Totalarea',\n",
       " 'YearBuilt'}"
      ]
     },
     "execution_count": 26,
     "metadata": {},
     "output_type": "execute_result"
    }
   ],
   "source": [
    "removed_columns.remove(\"GrLivArea\")\n",
    "removed_columns"
   ]
  },
  {
   "cell_type": "markdown",
   "metadata": {},
   "source": [
    "# Chi2 For Categorical Columns"
   ]
  },
  {
   "cell_type": "code",
   "execution_count": 27,
   "metadata": {},
   "outputs": [
    {
     "name": "stdout",
     "output_type": "stream",
     "text": [
      "all columns =  38\n",
      "needed column =  10\n",
      "the columns i will take :  ['LotShape', 'LandSlope', 'Neighborhood', 'BldgType', 'HouseStyle', 'RoofMatl', 'Exterior2nd', 'BsmtFinType1', 'HeatingQC', 'GarageType']\n",
      "number of removed columns : 22\n",
      "removed columns are : {'TotalSF', 'Exterior2nd', 'BsmtHalfBath', 'LandSlope', 'TotalPorch', 'Totalarea', 'HouseStyle', 'BldgType', 'TotalBath', 'YearBuilt', 'GarageType', 'KitchenAbvGr', 'RoofMatl', 'OverallQual', 'BsmtUnfSF', 'BsmtFinSF1', 'HeatingQC', 'LotShape', 'Neighborhood', 'BsmtFinType1', 'GarageCars', 'TotalBsmtSF'}\n"
     ]
    },
    {
     "name": "stderr",
     "output_type": "stream",
     "text": [
      "/tmp/ipykernel_4342/2992324583.py:5: SettingWithCopyWarning: \n",
      "A value is trying to be set on a copy of a slice from a DataFrame.\n",
      "Try using .loc[row_indexer,col_indexer] = value instead\n",
      "\n",
      "See the caveats in the documentation: https://pandas.pydata.org/pandas-docs/stable/user_guide/indexing.html#returning-a-view-versus-a-copy\n",
      "  df[df.columns] = ord.transform(df)\n"
     ]
    }
   ],
   "source": [
    "df = train_data[categorical_cols]\n",
    "\n",
    "ord = OrdinalEncoder()\n",
    "ord.fit(df)\n",
    "df[df.columns] = ord.transform(df)\n",
    "\n",
    "\n",
    "X = df\n",
    "Y = train_data[\"SalePrice\"]\n",
    "\n",
    "chi_state, p_value = chi2(X, Y)\n",
    "\n",
    "needed_column = 0\n",
    "column_names = []\n",
    "columns = list(X.columns)\n",
    "\n",
    "\n",
    "for i in range(len(p_value)):\n",
    "    if p_value[i] <= 0.05:\n",
    "        needed_column += 1\n",
    "        column_names.append(columns[i])\n",
    "        removed_columns.add(columns[i])\n",
    "\n",
    "print(\"all columns = \", len(p_value))\n",
    "print(\"needed column = \", needed_column)\n",
    "print(\"the columns i will take : \", column_names)\n",
    "print(\"number of removed columns :\", len(removed_columns))\n",
    "print(\"removed columns are :\", removed_columns)"
   ]
  },
  {
   "cell_type": "markdown",
   "metadata": {},
   "source": [
    "# Variance Threshold For Categorical Columns"
   ]
  },
  {
   "cell_type": "code",
   "execution_count": 28,
   "metadata": {},
   "outputs": [
    {
     "data": {
      "text/html": [
       "<style>#sk-container-id-2 {color: black;background-color: white;}#sk-container-id-2 pre{padding: 0;}#sk-container-id-2 div.sk-toggleable {background-color: white;}#sk-container-id-2 label.sk-toggleable__label {cursor: pointer;display: block;width: 100%;margin-bottom: 0;padding: 0.3em;box-sizing: border-box;text-align: center;}#sk-container-id-2 label.sk-toggleable__label-arrow:before {content: \"▸\";float: left;margin-right: 0.25em;color: #696969;}#sk-container-id-2 label.sk-toggleable__label-arrow:hover:before {color: black;}#sk-container-id-2 div.sk-estimator:hover label.sk-toggleable__label-arrow:before {color: black;}#sk-container-id-2 div.sk-toggleable__content {max-height: 0;max-width: 0;overflow: hidden;text-align: left;background-color: #f0f8ff;}#sk-container-id-2 div.sk-toggleable__content pre {margin: 0.2em;color: black;border-radius: 0.25em;background-color: #f0f8ff;}#sk-container-id-2 input.sk-toggleable__control:checked~div.sk-toggleable__content {max-height: 200px;max-width: 100%;overflow: auto;}#sk-container-id-2 input.sk-toggleable__control:checked~label.sk-toggleable__label-arrow:before {content: \"▾\";}#sk-container-id-2 div.sk-estimator input.sk-toggleable__control:checked~label.sk-toggleable__label {background-color: #d4ebff;}#sk-container-id-2 div.sk-label input.sk-toggleable__control:checked~label.sk-toggleable__label {background-color: #d4ebff;}#sk-container-id-2 input.sk-hidden--visually {border: 0;clip: rect(1px 1px 1px 1px);clip: rect(1px, 1px, 1px, 1px);height: 1px;margin: -1px;overflow: hidden;padding: 0;position: absolute;width: 1px;}#sk-container-id-2 div.sk-estimator {font-family: monospace;background-color: #f0f8ff;border: 1px dotted black;border-radius: 0.25em;box-sizing: border-box;margin-bottom: 0.5em;}#sk-container-id-2 div.sk-estimator:hover {background-color: #d4ebff;}#sk-container-id-2 div.sk-parallel-item::after {content: \"\";width: 100%;border-bottom: 1px solid gray;flex-grow: 1;}#sk-container-id-2 div.sk-label:hover label.sk-toggleable__label {background-color: #d4ebff;}#sk-container-id-2 div.sk-serial::before {content: \"\";position: absolute;border-left: 1px solid gray;box-sizing: border-box;top: 0;bottom: 0;left: 50%;z-index: 0;}#sk-container-id-2 div.sk-serial {display: flex;flex-direction: column;align-items: center;background-color: white;padding-right: 0.2em;padding-left: 0.2em;position: relative;}#sk-container-id-2 div.sk-item {position: relative;z-index: 1;}#sk-container-id-2 div.sk-parallel {display: flex;align-items: stretch;justify-content: center;background-color: white;position: relative;}#sk-container-id-2 div.sk-item::before, #sk-container-id-2 div.sk-parallel-item::before {content: \"\";position: absolute;border-left: 1px solid gray;box-sizing: border-box;top: 0;bottom: 0;left: 50%;z-index: -1;}#sk-container-id-2 div.sk-parallel-item {display: flex;flex-direction: column;z-index: 1;position: relative;background-color: white;}#sk-container-id-2 div.sk-parallel-item:first-child::after {align-self: flex-end;width: 50%;}#sk-container-id-2 div.sk-parallel-item:last-child::after {align-self: flex-start;width: 50%;}#sk-container-id-2 div.sk-parallel-item:only-child::after {width: 0;}#sk-container-id-2 div.sk-dashed-wrapped {border: 1px dashed gray;margin: 0 0.4em 0.5em 0.4em;box-sizing: border-box;padding-bottom: 0.4em;background-color: white;}#sk-container-id-2 div.sk-label label {font-family: monospace;font-weight: bold;display: inline-block;line-height: 1.2em;}#sk-container-id-2 div.sk-label-container {text-align: center;}#sk-container-id-2 div.sk-container {/* jupyter's `normalize.less` sets `[hidden] { display: none; }` but bootstrap.min.css set `[hidden] { display: none !important; }` so we also need the `!important` here to be able to override the default hidden behavior on the sphinx rendered scikit-learn.org. See: https://github.com/scikit-learn/scikit-learn/issues/21755 */display: inline-block !important;position: relative;}#sk-container-id-2 div.sk-text-repr-fallback {display: none;}</style><div id=\"sk-container-id-2\" class=\"sk-top-container\"><div class=\"sk-text-repr-fallback\"><pre>VarianceThreshold(threshold=0.15999999999999998)</pre><b>In a Jupyter environment, please rerun this cell to show the HTML representation or trust the notebook. <br />On GitHub, the HTML representation is unable to render, please try loading this page with nbviewer.org.</b></div><div class=\"sk-container\" hidden><div class=\"sk-item\"><div class=\"sk-estimator sk-toggleable\"><input class=\"sk-toggleable__control sk-hidden--visually\" id=\"sk-estimator-id-2\" type=\"checkbox\" checked><label for=\"sk-estimator-id-2\" class=\"sk-toggleable__label sk-toggleable__label-arrow\">VarianceThreshold</label><div class=\"sk-toggleable__content\"><pre>VarianceThreshold(threshold=0.15999999999999998)</pre></div></div></div></div></div>"
      ],
      "text/plain": [
       "VarianceThreshold(threshold=0.15999999999999998)"
      ]
     },
     "execution_count": 28,
     "metadata": {},
     "output_type": "execute_result"
    }
   ],
   "source": [
    "presntage = 0.8 * (1 - 0.8)\n",
    "X = df\n",
    "var = VarianceThreshold(threshold=presntage)\n",
    "var.fit(X)"
   ]
  },
  {
   "cell_type": "code",
   "execution_count": 29,
   "metadata": {},
   "outputs": [
    {
     "name": "stdout",
     "output_type": "stream",
     "text": [
      "[ True False  True  True False  True False  True  True False  True  True\n",
      "  True  True  True  True  True  True  True  True  True  True  True  True\n",
      "  True False  True False  True  True  True  True  True  True  True  True\n",
      "  True  True]\n",
      "\n",
      "['MSZoning' 'Street' 'LotShape' 'LandContour' 'Utilities' 'LotConfig'\n",
      " 'LandSlope' 'Neighborhood' 'Condition1' 'Condition2' 'BldgType'\n",
      " 'HouseStyle' 'RoofStyle' 'RoofMatl' 'Exterior1st' 'Exterior2nd'\n",
      " 'MasVnrType' 'ExterQual' 'ExterCond' 'Foundation' 'BsmtQual' 'BsmtCond'\n",
      " 'BsmtExposure' 'BsmtFinType1' 'BsmtFinType2' 'Heating' 'HeatingQC'\n",
      " 'CentralAir' 'Electrical' 'KitchenQual' 'Functional' 'GarageType'\n",
      " 'GarageFinish' 'GarageQual' 'GarageCond' 'PavedDrive' 'SaleType'\n",
      " 'SaleCondition']\n"
     ]
    }
   ],
   "source": [
    "boolean_selection = var.get_support()\n",
    "columns_names = var.feature_names_in_\n",
    "print(boolean_selection)\n",
    "print()\n",
    "print(columns_names)"
   ]
  },
  {
   "cell_type": "code",
   "execution_count": 30,
   "metadata": {},
   "outputs": [
    {
     "name": "stdout",
     "output_type": "stream",
     "text": [
      "27\n"
     ]
    }
   ],
   "source": [
    "for i in range(len(boolean_selection)):\n",
    "    if boolean_selection[i] == False:\n",
    "        removed_columns.add(columns_names[i])\n",
    "\n",
    "print(len(removed_columns))"
   ]
  },
  {
   "cell_type": "markdown",
   "metadata": {},
   "source": [
    "# Remove columns that have the same value more than 80%"
   ]
  },
  {
   "cell_type": "code",
   "execution_count": 31,
   "metadata": {},
   "outputs": [
    {
     "name": "stdout",
     "output_type": "stream",
     "text": [
      "46\n",
      "\n",
      "{'TotalSF', 'Utilities', 'GarageQual', 'MiscVal', 'Condition1', 'Exterior2nd', 'Condition2', 'SaleCondition', 'BsmtHalfBath', 'LandSlope', 'TotalPorch', 'Totalarea', 'CentralAir', 'PoolArea', 'HouseStyle', 'LowQualFinSF', 'GarageCond', 'EnclosedPorch', 'BldgType', '3SsnPorch', 'BsmtFinType2', 'Functional', 'TotalBath', 'YearBuilt', 'GarageType', 'KitchenAbvGr', 'RoofMatl', 'BsmtCond', 'ScreenPorch', 'OverallQual', 'Street', 'BsmtUnfSF', 'BsmtFinSF1', 'Electrical', 'HeatingQC', 'Heating', 'LotShape', 'Neighborhood', 'BsmtFinType1', 'GarageCars', 'LandContour', 'BsmtFinSF2', 'SaleType', 'PavedDrive', 'TotalBsmtSF', 'ExterCond'}\n"
     ]
    }
   ],
   "source": [
    "for col in train_data.columns:\n",
    "    count = train_data[col].value_counts().sort_values(ascending=False)\n",
    "    top_value_count = count.iloc[0]\n",
    "    if top_value_count * 100 / len(train_data) > 80:\n",
    "        removed_columns.add(col)\n",
    "\n",
    "print(len(removed_columns))\n",
    "print()\n",
    "print((removed_columns))"
   ]
  },
  {
   "cell_type": "code",
   "execution_count": 32,
   "metadata": {},
   "outputs": [
    {
     "data": {
      "text/plain": [
       "((1451, 40), (1459, 39))"
      ]
     },
     "execution_count": 32,
     "metadata": {},
     "output_type": "execute_result"
    }
   ],
   "source": [
    "removed_columns.remove(\"TotalBath\")\n",
    "removed_columns.remove(\"TotalSF\")\n",
    "removed_columns.remove(\"TotalBsmtSF\")\n",
    "removed_columns.remove(\"TotalPorch\")\n",
    "removed_columns.remove(\"Totalarea\")\n",
    "\n",
    "\n",
    "combin = [train_data, test_data]\n",
    "\n",
    "\n",
    "for dataset in combin:\n",
    "    dataset.drop(columns=list(removed_columns), axis=1, inplace=True)\n",
    "train_data.shape, test_data.shape"
   ]
  },
  {
   "cell_type": "code",
   "execution_count": 34,
   "metadata": {},
   "outputs": [],
   "source": [
    "train_data[\"SalePrice\"] = np.log10(train_data[\"SalePrice\"])"
   ]
  },
  {
   "cell_type": "code",
   "execution_count": 72,
   "metadata": {},
   "outputs": [],
   "source": [
    "for col in train_data.columns:\n",
    "    if train_data[col].dtype == \"bool\":\n",
    "        train_data[col] = train_data[col].astype(\"int32\")\n",
    "\n",
    "for col in test_data.columns:\n",
    "    if test_data[col].dtype == \"bool\":\n",
    "        test_data[col] = test_data[col].astype(\"int32\")"
   ]
  },
  {
   "cell_type": "markdown",
   "metadata": {},
   "source": [
    "## Models"
   ]
  },
  {
   "cell_type": "code",
   "execution_count": 73,
   "metadata": {},
   "outputs": [
    {
     "data": {
      "text/plain": [
       "<Experiment: artifact_location='/home/godwin/Documents/Workflow/PRODIGY_ML_01/mlruns/1', creation_time=1708731534546, experiment_id='1', last_update_time=1708731534546, lifecycle_stage='active', name='House SalePrice Prediction', tags={}>"
      ]
     },
     "execution_count": 73,
     "metadata": {},
     "output_type": "execute_result"
    }
   ],
   "source": [
    "import mlflow\n",
    "\n",
    "mlflow.set_tracking_uri(\"sqlite:///mlflow.db\")\n",
    "mlflow.set_experiment(\"House SalePrice Prediction\")"
   ]
  },
  {
   "cell_type": "code",
   "execution_count": 74,
   "metadata": {},
   "outputs": [],
   "source": [
    "ids = test_data[\"Id\"]\n",
    "data = {\n",
    "    \"model\": [],\n",
    "    \"MAE\": [],\n",
    "    \"MSE\": [],\n",
    "    \"RMSE\": [],\n",
    "    \"train_score\": [],\n",
    "    \"test_score\": [],\n",
    "}\n",
    "models = pd.DataFrame(columns=data)\n",
    "\n",
    "train_data = train_data.drop(columns=[\"Id\"], axis=1)\n",
    "test_data = test_data.drop(columns=[\"Id\"], axis=1)"
   ]
  },
  {
   "cell_type": "code",
   "execution_count": 75,
   "metadata": {},
   "outputs": [],
   "source": [
    "x_train, x_test, y_train, y_test = train_test_split(train_data.drop(columns=[\"SalePrice\"]),\n",
    "                                                    train_data[\"SalePrice\"],\n",
    "                                                    test_size=0.3,\n",
    "                                                    random_state=42,)\n",
    "\n",
    "\n",
    "vectorizer = DictVectorizer(sparse=False)\n",
    "x_train = vectorizer.fit_transform(x_train.to_dict(orient=\"records\"))\n",
    "x_test = vectorizer.transform(x_test.to_dict(orient=\"records\"))"
   ]
  },
  {
   "cell_type": "code",
   "execution_count": 76,
   "metadata": {},
   "outputs": [],
   "source": [
    "def evaluate_model(y_train, y_test, train_prediction, test_prediction):\n",
    "\n",
    "    train_prediction = np.exp(train_prediction)\n",
    "    test_prediction = np.exp(test_prediction)\n",
    "\n",
    "    score_train = r2_score(y_true=y_train, y_pred=train_prediction)\n",
    "    score_test = r2_score(y_true=y_test, y_pred=test_prediction)\n",
    "\n",
    "    MAE = mean_absolute_error(y_true=y_test, y_pred=test_prediction)\n",
    "    MSE = mean_squared_error(y_true=y_test, y_pred=test_prediction)\n",
    "    RMSE = np.sqrt(mean_squared_error(y_true=y_test, y_pred=test_prediction))\n",
    "            \n",
    "    metrics = {\"MAE\": MAE, \"MSE\": MSE,\n",
    "              \"RMSE\": RMSE, \"train_score\": score_train,\n",
    "              \"test_score\": score_test,}\n",
    "    return metrics"
   ]
  },
  {
   "cell_type": "code",
   "execution_count": 77,
   "metadata": {},
   "outputs": [
    {
     "name": "stdout",
     "output_type": "stream",
     "text": [
      "{'MAE': 182.36148088462963, 'MSE': 34286.08107319772, 'RMSE': 185.1650103912662, 'train_score': -1171694.8699612531, 'test_score': -1155776.306955997}\n"
     ]
    }
   ],
   "source": [
    "with mlflow.start_run():\n",
    "\n",
    "    model = LinearRegression()\n",
    "    model.fit(x_train, y_train)\n",
    "\n",
    "    mlflow.set_tag(\"Model\", \"LinearRegression\")\n",
    "    mlflow.set_tag(\"Scaler\", None)\n",
    "\n",
    "    train_prediction = model.predict(x_train)\n",
    "    test_prediction = model.predict(x_test)\n",
    "\n",
    "    metrics = evaluate_model(y_train, y_test, train_prediction, test_prediction)\n",
    "    mlflow.log_metrics(metrics)\n",
    "    print(metrics)"
   ]
  },
  {
   "cell_type": "code",
   "execution_count": 78,
   "metadata": {},
   "outputs": [],
   "source": [
    "from hyperopt.pyll import scope\n",
    "from sklearn.pipeline import make_pipeline\n",
    "from hyperopt import hp, STATUS_OK, fmin, Trials, tpe"
   ]
  },
  {
   "cell_type": "code",
   "execution_count": 79,
   "metadata": {},
   "outputs": [
    {
     "name": "stdout",
     "output_type": "stream",
     "text": [
      "100%|██████████| 50/50 [00:07<00:00,  6.96trial/s, best loss: 34250.63830557558] \n"
     ]
    }
   ],
   "source": [
    "def objective(params):\n",
    "\n",
    "    with mlflow.start_run():\n",
    "        mlflow.set_tag('Model', 'Ridge')\n",
    "        mlflow.set_tag(\"Scaler\", None)\n",
    "        mlflow.log_params(params)\n",
    "\n",
    "        model = Ridge(**params)\n",
    "        model.fit(x_train, y_train)\n",
    "\n",
    "        train_prediction = model.predict(x_train)\n",
    "        test_prediction = model.predict(x_test)\n",
    "\n",
    "        metrics = evaluate_model(y_train, y_test, train_prediction, test_prediction)\n",
    "        mlflow.log_metrics(metrics)\n",
    "        \n",
    "    return {\"loss\": metrics['MSE'], 'status': STATUS_OK}\n",
    "\n",
    "space = {\"alpha\":  scope.float(hp.quniform('alpha', 0.2, 20, 0.4))}\n",
    "best_result = fmin(fn= objective, space=space,\n",
    "                   algo=tpe.suggest, max_evals=50, trials=Trials())"
   ]
  },
  {
   "cell_type": "code",
   "execution_count": 80,
   "metadata": {},
   "outputs": [
    {
     "name": "stdout",
     "output_type": "stream",
     "text": [
      "  0%|          | 0/50 [00:00<?, ?trial/s, best loss=?]"
     ]
    },
    {
     "name": "stdout",
     "output_type": "stream",
     "text": [
      "100%|██████████| 50/50 [00:06<00:00,  7.81trial/s, best loss: 34269.43290553566]\n"
     ]
    }
   ],
   "source": [
    "def objective(params):\n",
    "\n",
    "    with mlflow.start_run():\n",
    "        mlflow.set_tag('Model', 'Ridge')\n",
    "        mlflow.set_tag(\"Scaler\", \"StandardScaler\")\n",
    "        mlflow.log_params(params)\n",
    "\n",
    "        model = make_pipeline(StandardScaler(),\n",
    "                              Ridge(**params))\n",
    "        model.fit(x_train, y_train)\n",
    "\n",
    "        train_prediction = model.predict(x_train)\n",
    "        test_prediction = model.predict(x_test)\n",
    "        metrics = evaluate_model(y_train, y_test, train_prediction, test_prediction)\n",
    "        mlflow.log_metrics(metrics)\n",
    "        \n",
    "    return {\"loss\": metrics['MSE'], 'status': STATUS_OK}\n",
    "\n",
    "space = {\"alpha\":  scope.float(hp.quniform('alpha', 0.2, 20, 0.4))}\n",
    "\n",
    "best_result = fmin(fn= objective, space=space,\n",
    "                   algo=tpe.suggest, max_evals=50, trials=Trials())"
   ]
  },
  {
   "cell_type": "code",
   "execution_count": 89,
   "metadata": {},
   "outputs": [],
   "source": [
    "space = {\"alpha\":  scope.float(hp.quniform('alpha', 0.2, 20, 0.4))}"
   ]
  },
  {
   "cell_type": "code",
   "execution_count": 91,
   "metadata": {},
   "outputs": [
    {
     "data": {
      "text/plain": [
       "<hyperopt.pyll.base.Apply at 0x7f020fb48ad0>"
      ]
     },
     "execution_count": 91,
     "metadata": {},
     "output_type": "execute_result"
    }
   ],
   "source": [
    "for i in space[\"alpha\"]"
   ]
  },
  {
   "cell_type": "code",
   "execution_count": 81,
   "metadata": {},
   "outputs": [
    {
     "name": "stdout",
     "output_type": "stream",
     "text": [
      "  0%|          | 0/50 [00:00<?, ?trial/s, best loss=?]"
     ]
    },
    {
     "name": "stdout",
     "output_type": "stream",
     "text": [
      "100%|██████████| 50/50 [00:06<00:00,  8.08trial/s, best loss: 33081.825532005336]\n",
      "100%|██████████| 50/50 [00:06<00:00,  8.20trial/s, best loss: 32490.96657674933]\n"
     ]
    }
   ],
   "source": [
    "def objective(params):\n",
    "\n",
    "    with mlflow.start_run():\n",
    "        mlflow.set_tag('Model', 'Lasso')\n",
    "        mlflow.set_tag(\"Scaler\", None)\n",
    "        mlflow.log_params(params)\n",
    "\n",
    "        model = Lasso(**params)\n",
    "        model.fit(x_train, y_train)\n",
    "\n",
    "        train_prediction = model.predict(x_train)\n",
    "        test_prediction = model.predict(x_test)\n",
    "\n",
    "        metrics = evaluate_model(y_train, y_test, train_prediction, test_prediction)\n",
    "        mlflow.log_metrics(metrics)\n",
    "        \n",
    "    return {\"loss\": metrics['MSE'], 'status': STATUS_OK}\n",
    "\n",
    "space = {\"alpha\":  scope.float(hp.quniform('alpha', 0.2, 20, 0.4))}\n",
    "\n",
    "best_result = fmin(fn= objective, space=space,\n",
    "                   algo=tpe.suggest, max_evals=50, trials=Trials())\n",
    "\n",
    "\n",
    "def objective(params):\n",
    "\n",
    "    with mlflow.start_run():\n",
    "        mlflow.set_tag('Model', 'Lasso')\n",
    "        mlflow.set_tag(\"Scaler\", \"StandardScaler\")\n",
    "        mlflow.log_params(params)\n",
    "\n",
    "        model = make_pipeline(StandardScaler(),\n",
    "                              Lasso(**params))\n",
    "        model.fit(x_train, y_train)\n",
    "\n",
    "        train_prediction = model.predict(x_train)\n",
    "        test_prediction = model.predict(x_test)\n",
    "\n",
    "        metrics = evaluate_model(y_train, y_test, train_prediction, test_prediction)\n",
    "        mlflow.log_metrics(metrics)\n",
    "        \n",
    "    return {\"loss\": metrics['MSE'], 'status': STATUS_OK}\n",
    "\n",
    "space = {\"alpha\":  scope.float(hp.quniform('alpha', 0.2, 20, 0.4))}\n",
    "\n",
    "best_result = fmin(fn= objective, space=space,\n",
    "                   algo=tpe.suggest, max_evals=50, trials=Trials())"
   ]
  },
  {
   "cell_type": "markdown",
   "metadata": {},
   "source": [
    "Linear Scaled Model"
   ]
  },
  {
   "cell_type": "code",
   "execution_count": 82,
   "metadata": {},
   "outputs": [
    {
     "name": "stdout",
     "output_type": "stream",
     "text": [
      "100%|██████████| 50/50 [00:05<00:00,  8.82trial/s, best loss: 33358.44807133812] \n"
     ]
    }
   ],
   "source": [
    "def objective(params):\n",
    "\n",
    "    with mlflow.start_run():\n",
    "        mlflow.set_tag('Model', 'DecisionTree')\n",
    "        mlflow.log_params(params)\n",
    "\n",
    "        model = DecisionTreeRegressor(**params)\n",
    "        model.fit(x_train, y_train)\n",
    "\n",
    "        train_prediction = model.predict(x_train)\n",
    "        test_prediction = model.predict(x_test)\n",
    "\n",
    "        metrics = evaluate_model(y_train, y_test, train_prediction, test_prediction)\n",
    "        mlflow.log_metrics(metrics)\n",
    "        \n",
    "    return {\"loss\": metrics['MSE'], 'status': STATUS_OK}\n",
    "\n",
    "space = {\"max_depth\": hp.randint(\"max_depth\", 1, 15),\n",
    "        'min_samples_split': hp.randint(\"min_samples_split\", 2, 15),\n",
    "        'min_samples_leaf': hp.randint(\"min_samples_leaf\", 1, 15),\n",
    "        }\n",
    "\n",
    "best_result = fmin(fn= objective,\n",
    "                    space=space,\n",
    "                    algo=tpe.suggest,\n",
    "                    max_evals=50,\n",
    "                    trials=Trials()\n",
    "                    )"
   ]
  },
  {
   "cell_type": "code",
   "execution_count": 83,
   "metadata": {},
   "outputs": [
    {
     "name": "stdout",
     "output_type": "stream",
     "text": [
      "100%|██████████| 50/50 [00:20<00:00,  2.41trial/s, best loss: 33892.07966261768] \n"
     ]
    }
   ],
   "source": [
    "def random_forest_objective(params):\n",
    "\n",
    "    with mlflow.start_run():\n",
    "        mlflow.set_tag('Model', 'RandomForest')\n",
    "        mlflow.log_params(params)\n",
    "\n",
    "        model = RandomForestRegressor(**params)\n",
    "        model.fit(x_train, y_train)\n",
    "\n",
    "        train_prediction = model.predict(x_train)\n",
    "        test_prediction = model.predict(x_test)\n",
    "\n",
    "        metrics = evaluate_model(y_train, y_test, train_prediction, test_prediction)\n",
    "        mlflow.log_metrics(metrics)\n",
    "        \n",
    "    return {\"loss\": metrics['MSE'], 'status': STATUS_OK}\n",
    "\n",
    "\n",
    "space = {\"n_estimators\": hp.choice(\"n_estimators\", [2,5,10, 20, 30, 50, 100,]),\n",
    "            'max_depth': scope.int(hp.quniform('max_depth', 4, 100, 5)),\n",
    "            }\n",
    "\n",
    "best_result = fmin(fn=random_forest_objective,\n",
    "                    space=space,\n",
    "                    algo=tpe.suggest,\n",
    "                    max_evals=50,\n",
    "                    trials=Trials())"
   ]
  },
  {
   "cell_type": "code",
   "execution_count": null,
   "metadata": {},
   "outputs": [],
   "source": []
  },
  {
   "cell_type": "code",
   "execution_count": null,
   "metadata": {},
   "outputs": [],
   "source": []
  },
  {
   "cell_type": "code",
   "execution_count": null,
   "metadata": {},
   "outputs": [],
   "source": []
  },
  {
   "cell_type": "code",
   "execution_count": null,
   "metadata": {},
   "outputs": [],
   "source": []
  },
  {
   "cell_type": "code",
   "execution_count": null,
   "metadata": {},
   "outputs": [],
   "source": []
  },
  {
   "cell_type": "code",
   "execution_count": null,
   "metadata": {},
   "outputs": [],
   "source": []
  },
  {
   "cell_type": "code",
   "execution_count": null,
   "metadata": {},
   "outputs": [],
   "source": []
  },
  {
   "cell_type": "code",
   "execution_count": null,
   "metadata": {},
   "outputs": [],
   "source": []
  },
  {
   "cell_type": "code",
   "execution_count": null,
   "metadata": {},
   "outputs": [],
   "source": []
  },
  {
   "cell_type": "code",
   "execution_count": null,
   "metadata": {},
   "outputs": [],
   "source": []
  },
  {
   "cell_type": "code",
   "execution_count": null,
   "metadata": {},
   "outputs": [],
   "source": []
  },
  {
   "cell_type": "code",
   "execution_count": null,
   "metadata": {},
   "outputs": [],
   "source": []
  },
  {
   "cell_type": "code",
   "execution_count": null,
   "metadata": {},
   "outputs": [],
   "source": []
  },
  {
   "cell_type": "code",
   "execution_count": null,
   "metadata": {},
   "outputs": [],
   "source": []
  },
  {
   "cell_type": "code",
   "execution_count": null,
   "metadata": {},
   "outputs": [],
   "source": []
  },
  {
   "cell_type": "code",
   "execution_count": null,
   "metadata": {},
   "outputs": [],
   "source": []
  },
  {
   "cell_type": "code",
   "execution_count": null,
   "metadata": {},
   "outputs": [],
   "source": []
  },
  {
   "cell_type": "code",
   "execution_count": null,
   "metadata": {},
   "outputs": [],
   "source": []
  },
  {
   "cell_type": "code",
   "execution_count": null,
   "metadata": {},
   "outputs": [],
   "source": []
  },
  {
   "cell_type": "code",
   "execution_count": null,
   "metadata": {},
   "outputs": [],
   "source": []
  },
  {
   "cell_type": "code",
   "execution_count": null,
   "metadata": {},
   "outputs": [],
   "source": []
  }
 ],
 "metadata": {
  "kernelspec": {
   "display_name": "base",
   "language": "python",
   "name": "python3"
  },
  "language_info": {
   "codemirror_mode": {
    "name": "ipython",
    "version": 3
   },
   "file_extension": ".py",
   "mimetype": "text/x-python",
   "name": "python",
   "nbconvert_exporter": "python",
   "pygments_lexer": "ipython3",
   "version": "3.1.0"
  }
 },
 "nbformat": 4,
 "nbformat_minor": 2
}
